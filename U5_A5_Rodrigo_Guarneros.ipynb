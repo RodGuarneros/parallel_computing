{
 "cells": [
  {
   "cell_type": "markdown",
   "id": "fe576c51-5ce0-4c85-abdc-f2d16252cbac",
   "metadata": {
    "id": "fe576c51-5ce0-4c85-abdc-f2d16252cbac",
    "tags": []
   },
   "source": [
    "<div style=\"text-align:center; background-color: #f0f0f0; padding: 12px;\">\n",
    "    <h1 style=\"background-color: #007acc; color: white; padding: 10px;\"><b>Actividad 5</b></h1>\n",
    "    <p><strong>Materia:</strong> Cómputo de Alto Rendimiento</p>\n",
    "    <p><strong>Programa:</strong> Maestría en Ciencia de Datos e Información, INFOTEC</p>\n",
    "    <p><strong>Docente:</strong> Dra. Magali Arellano Vázquez</p>\n",
    "    <p><strong>Alumno:</strong> Rodrigo Guarneros Gutiérrez</p>\n",
    "</div>"
   ]
  },
  {
   "cell_type": "markdown",
   "id": "ac2a663d-6551-4ee5-a8bd-dc35a6d9b85d",
   "metadata": {},
   "source": [
    "<div style=\"background-color: #f0f0f0; padding: 8px;\">\n",
    "    <h1 style=\"background-color: #007acc; color: white; padding: 8px;\">Introducción</h1>\n",
    "    <hr>\n",
    "    <p>En este documento se encuentra la captura de pantalla de la ejecución de cada código y los resultados de las métricas de desempeño de cada problema específico. <b>Para cada uno de ellos se elaboró el código secuencial y el paralelo para efectos de comparar su desempeño y resultado</b>.</p>\n",
    "    <ol>\n",
    "    <li>Cálculo de $\\pi$.</li>\n",
    "    <li>Mensajes encadenados.</li>\n",
    "    <li>Producto punto de dos vectores.</li>\n",
    "    <li>Producto punto de una matriz $NXN$ y un vector $NX1$.</li>\n",
    "    <li>Aplicación del paradigma map-reduce.</li>\n",
    "    </ol>\n",
    "    <p>Los códigos están disponibles en anexo, se trata de los códigos originales y funcionales disponibles para su ejecución y comprobación.</p>\n",
    "</div>"
   ]
  },
  {
   "cell_type": "code",
   "execution_count": 4,
   "id": "4b59b045-0f97-4536-87a8-de51da46b85d",
   "metadata": {},
   "outputs": [],
   "source": [
    "import pandas as pd"
   ]
  },
  {
   "cell_type": "markdown",
   "id": "b200d367-cbaa-4722-8df1-88028c90ef99",
   "metadata": {},
   "source": [
    "<div style=\"background-color: #f0f0f0; padding: 8px;\">\n",
    "    <h1 style=\"background-color: #007acc; color: white; padding: 8px;\">1. Cálculo secuencial y paralelo de la aproximación de $\\pi$ a partir de la suma de Riemann.</h1>\n",
    "    <hr>\n",
    "    <p>A continuación se presentan las líneas de comandos a ejecutar y los resultados (los códigos están disponibles y adjuntos a este documento).</p>\n",
    "</div>"
   ]
  },
  {
   "cell_type": "markdown",
   "id": "9e174e3d-b35f-4317-930a-0fc74781fd65",
   "metadata": {},
   "source": [
    "![Ejecucion](1.PI_Final.jpg)\n",
    "\n",
    "En resumen, los resultados son los siguientes en términos de desempeño:\n",
    "\n",
    "|    | Métrica                   | Código Secuencial   | Código Paralelo   |\n",
    "|---:|:--------------------------|:--------------------|:------------------|\n",
    "|  0 | Error                     | 83.33X10^-7         | 83.33X10^-7       |\n",
    "|  1 | Tiempo_ejecución_segundos | 15x10^-4            | 15x10^-4          |"
   ]
  },
  {
   "cell_type": "code",
   "execution_count": 5,
   "id": "79fc8b22-98f3-4c9a-9eca-5b4d0bda2258",
   "metadata": {},
   "outputs": [
    {
     "name": "stdout",
     "output_type": "stream",
     "text": [
      "|    | Métrica                   | Código Secuencial   | Código Paralelo   |\n",
      "|---:|:--------------------------|:--------------------|:------------------|\n",
      "|  0 | Error                     | 83.33X10^-7         | 83.33X10^-7       |\n",
      "|  1 | Tiempo_ejecución_segundos | 15x10^-4            | 15x10^-4          |\n"
     ]
    }
   ],
   "source": [
    "resumen_pi = {'Métrica':['Error', 'Tiempo_ejecución_segundos'], 'Código Secuencial': ['83.33X10^-7', '15x10^-4'], \n",
    "             'Código Paralelo':['83.33X10^-7', '15x10^-4']}\n",
    "resumen_pi = pd.DataFrame(resumen_pi)\n",
    "print(resumen_pi.to_markdown())"
   ]
  },
  {
   "cell_type": "markdown",
   "id": "39c42699-bd50-4a73-aa28-b96d2611255d",
   "metadata": {},
   "source": [
    "<div style=\"background-color: #f0f0f0; padding: 8px;\">\n",
    "    <h1 style=\"background-color: #007acc; color: white; padding: 8px;\">2. Recepción y envío de mensajes encadenados.</h1>\n",
    "    <hr>\n",
    "    <p>A continuación se presentan las líneas de comandos a ejecutar y los resultados (los códigos están disponibles y adjuntos a este documento).</p>\n",
    "</div>"
   ]
  },
  {
   "cell_type": "markdown",
   "id": "323fe5f0-b231-41a6-8837-eaadbd7dcea4",
   "metadata": {},
   "source": [
    "![Ejecucion](2.Mensajes_Final.jpg)\n",
    "\n",
    "En resumen, el desempeño de ambos códigos es el siguiente: \n",
    "|    | Métrica                   | Código Secuencial   | Código Paralelo   |\n",
    "|---:|:--------------------------|:--------------------|:------------------|\n",
    "|  0 | Tiempo_ejecución_segundos | 5x10^-4             | 4x10^-4           |"
   ]
  },
  {
   "cell_type": "code",
   "execution_count": 6,
   "id": "0f0d2700-315d-4b7b-93b3-c2a7fdc4efa2",
   "metadata": {},
   "outputs": [
    {
     "name": "stdout",
     "output_type": "stream",
     "text": [
      "|    | Métrica                   | Código Secuencial   | Código Paralelo   |\n",
      "|---:|:--------------------------|:--------------------|:------------------|\n",
      "|  0 | Tiempo_ejecución_segundos | 5x10^-4             | 4x10^-4           |\n"
     ]
    }
   ],
   "source": [
    "resumen_mensajes = {'Métrica': ['Tiempo_ejecución_segundos'], 'Código Secuencial': ['5x10^-4'], \n",
    "             'Código Paralelo':['4x10^-4']}\n",
    "resumen_mensajes = pd.DataFrame(resumen_mensajes)\n",
    "print(resumen_mensajes.to_markdown())"
   ]
  },
  {
   "cell_type": "markdown",
   "id": "dac5c749-73b9-47f3-a3b1-450c870c32ce",
   "metadata": {},
   "source": [
    "<div style=\"background-color: #f0f0f0; padding: 8px;\">\n",
    "    <h1 style=\"background-color: #007acc; color: white; padding: 8px;\">3. Producto punto de dos vectores (selecciona su dimensión) </h1>\n",
    "    <hr>\n",
    "    <p>A continuación se presentan las líneas de comandos a ejecutar y los resultados (los códigos están disponibles y adjuntos a este documento).</p>\n",
    "</div>"
   ]
  },
  {
   "cell_type": "markdown",
   "id": "2087b71d-bbbf-4ebc-995e-256f9dd3ec72",
   "metadata": {},
   "source": [
    "![Ejecucion](3.Vectores_Final.jpg)\n",
    "\n",
    "En resumen, el desempeño de ambos códigos es el siguiente: \n",
    "|    | Métrica                   | Código Secuencial   | Código Paralelo   |\n",
    "|---:|:--------------------------|:--------------------|:------------------|\n",
    "|  0 | Tiempo_ejecución_segundos | 9.32 segundos       | 7.25 segundos     |"
   ]
  },
  {
   "cell_type": "code",
   "execution_count": 8,
   "id": "bdfa1d2b-cc38-4039-8270-c4b9c7170d75",
   "metadata": {},
   "outputs": [
    {
     "name": "stdout",
     "output_type": "stream",
     "text": [
      "|    | Métrica                   | Código Secuencial   | Código Paralelo   |\n",
      "|---:|:--------------------------|:--------------------|:------------------|\n",
      "|  0 | Tiempo_ejecución_segundos | 9.32 segundos       | 7.25 segundos     |\n"
     ]
    }
   ],
   "source": [
    "resumen_pp = {'Métrica': ['Tiempo_ejecución_segundos'], 'Código Secuencial': ['9.32 segundos'], \n",
    "             'Código Paralelo': '7.25 segundos'}\n",
    "resumen_pp = pd.DataFrame(resumen_pp)\n",
    "print(resumen_pp.to_markdown())"
   ]
  },
  {
   "cell_type": "markdown",
   "id": "b57bf15a-377d-45ad-8f89-a6dc2aca3b03",
   "metadata": {},
   "source": [
    "<div style=\"background-color: #f0f0f0; padding: 8px;\">\n",
    "    <h1 style=\"background-color: #007acc; color: white; padding: 8px;\">4. Producto punto de una matriz $m x n$ y un vector $n x 1$ (selecciona su dimensión) </h1>\n",
    "    <hr>\n",
    "    <p>A continuación se presentan las líneas de comandos a ejecutar y los resultados (los códigos están disponibles y adjuntos a este documento).</p>\n",
    "</div>"
   ]
  },
  {
   "cell_type": "markdown",
   "id": "0b09ccea-07f9-4755-aff0-d2aab963345e",
   "metadata": {},
   "source": [
    "![Ejecucion](4.MatrizVector_Final.jpg)\n",
    "\n",
    "\n",
    "En resumen, el desempeño de ambos códigos es el siguiente: \n",
    "|    | Métrica                   | Código Secuencial   | Código Paralelo   |\n",
    "|---:|:--------------------------|:--------------------|:------------------|\n",
    "|  0 | Tiempo_ejecución_segundos | 1.05 segundos       | 0.005 segundos    |"
   ]
  },
  {
   "cell_type": "code",
   "execution_count": 10,
   "id": "2d107ac9-fc60-4da9-a5c1-40b9e81b4e94",
   "metadata": {},
   "outputs": [
    {
     "name": "stdout",
     "output_type": "stream",
     "text": [
      "|    | Métrica                   | Código Secuencial   | Código Paralelo   |\n",
      "|---:|:--------------------------|:--------------------|:------------------|\n",
      "|  0 | Tiempo_ejecución_segundos | 1.05 segundos       | 0.005 segundos    |\n"
     ]
    }
   ],
   "source": [
    "resumen_pp = {'Métrica': ['Tiempo_ejecución_segundos'], 'Código Secuencial': '1.05 segundos', \n",
    "             'Código Paralelo': '0.005 segundos'}\n",
    "resumen_pp = pd.DataFrame(resumen_pp)\n",
    "print(resumen_pp.to_markdown())"
   ]
  },
  {
   "cell_type": "markdown",
   "id": "4b396a16-6f88-4c97-aefa-ca101036512f",
   "metadata": {},
   "source": [
    "<div style=\"background-color: #f0f0f0; padding: 8px;\">\n",
    "    <h1 style=\"background-color: #007acc; color: white; padding: 8px;\">5. Implementación del código basado en el paradigma de map-reduce. Mapeando las palabras y reduciendo con base en su frecuencia absoluta </h1>\n",
    "    <hr>\n",
    "    <p>A continuación se presentan las líneas de comandos a ejecutar y los resultados (los códigos están disponibles y adjuntos a este documento).</p>\n",
    "</div>"
   ]
  },
  {
   "cell_type": "markdown",
   "id": "914e2f7f-5601-417d-83c9-c36219ce6cf1",
   "metadata": {},
   "source": [
    "![Ejecucion](map_reduce_ejecucion.jpg)\n",
    "\n",
    "![Ejecucion](map_reduce_output.jpg)\n"
   ]
  },
  {
   "cell_type": "markdown",
   "id": "19b5b751-35fd-4a33-8e94-d690a156f4e4",
   "metadata": {},
   "source": [
    "# Referencias\n",
    "- Microsoft MPI Documentation (mpiexec). Consultado el viernes 6 de octubre. Disponible en: \n",
    "https://learn.microsoft.com/en-us/powershell/high-performance-computing/mpiexec?view=hpc19-ps&source=recommendations\n",
    "- Gropp, W., Gropp, W. D., Lusk, E., Skjellum, A., & Lusk, A. D. F. E. E. (1999). Using MPI: portable parallel programming with the message-passing interface (Vol. 1). MIT press. Disponible en: https://aulavirtual.infotec.mx/pluginfile.php/85009/mod_bootstrapelements/intro/usingmpi.pdf\n",
    "- Gropp, W., Hoefler, T., Thakur, R., & Lusk, E. (2014). Using advanced MPI: Modern features of the message-passing interface. MIT Press. Disponible en: https://aulavirtual.infotec.mx/pluginfile.php/85009/mod_bootstrapelements/intro/advanced%20mpi.pdf\n",
    "- Karniadakis, G., Karniadakis, G. E., & Kirby II, R. M. (2003). Parallel scientific computing in C++ and MPI: a seamless approach to parallel algorithms and their implementation (Vol. 2). Cambridge University Press. Disponible en: https://aulavirtual.infotec.mx/pluginfile.php/85009/mod_bootstrapelements/intro/sci.pdf"
   ]
  }
 ],
 "metadata": {
  "colab": {
   "provenance": []
  },
  "kernelspec": {
   "display_name": "Python 3 (ipykernel)",
   "language": "python",
   "name": "python3"
  },
  "language_info": {
   "codemirror_mode": {
    "name": "ipython",
    "version": 3
   },
   "file_extension": ".py",
   "mimetype": "text/x-python",
   "name": "python",
   "nbconvert_exporter": "python",
   "pygments_lexer": "ipython3",
   "version": "3.8.15"
  }
 },
 "nbformat": 4,
 "nbformat_minor": 5
}
