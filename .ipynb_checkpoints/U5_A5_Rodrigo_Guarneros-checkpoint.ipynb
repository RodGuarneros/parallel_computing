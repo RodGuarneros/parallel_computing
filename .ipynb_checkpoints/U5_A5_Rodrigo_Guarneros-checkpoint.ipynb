{
 "cells": [
  {
   "cell_type": "markdown",
   "id": "fe576c51-5ce0-4c85-abdc-f2d16252cbac",
   "metadata": {
    "id": "fe576c51-5ce0-4c85-abdc-f2d16252cbac",
    "tags": []
   },
   "source": [
    "# Actividad 5:\n",
    "# Lenguajes de programación para cómputo paralelo\n",
    "\n",
    "### Dra. Magali Arellano Vázquez\n",
    "\n",
    "* Materia: Cómputo de Alto Rendimiento\n",
    "* Programa: Maestría en Ciencia de Datos e Información, INFOTEC\n",
    "* Docente:  Dr. Juliho Castillo Colmenares\n",
    "* Alumno: Rodrigo Guarneros Gutiérrez\n"
   ]
  },
  {
   "cell_type": "code",
   "execution_count": 6,
   "id": "ff70fae9-5e29-403f-95c6-2bab50d27105",
   "metadata": {},
   "outputs": [
    {
     "name": "stdin",
     "output_type": "stream",
     "text": [
      "Incluye el valor de n, número de divisiones en la suma de Rimman:  10000000\n"
     ]
    },
    {
     "name": "stdout",
     "output_type": "stream",
     "text": [
      "La aproximación del valor de PI es: 3.141592653589731, con un error de 6.217248937900877e-14\n",
      "El tiempo de ejecución: 2.482882261276245 segundos\n"
     ]
    }
   ],
   "source": [
    "import math\n",
    "import time\n",
    "\n",
    "n = int(input(\"Incluye el valor de n, número de divisiones en la suma de Rimman: \"))\n",
    "\n",
    "PI25DT = 3.141592653589793238462643\n",
    "h = 1.0 / float(n)\n",
    "sum = 0.0\n",
    "\n",
    "start_time = time.time()\n",
    "\n",
    "for i in range(1, n + 1):\n",
    "    x = h * (float(i) - 0.5)\n",
    "    sum += (4.0 / (1.0 + x * x))\n",
    "\n",
    "pi = sum * h\n",
    "\n",
    "end_time = time.time()\n",
    "\n",
    "execution_time = end_time - start_time\n",
    "execution_time_str = \"{:.1000f}\".format(execution_time)\n",
    "\n",
    "print(f\"La aproximación del valor de PI es: {pi}, con un error de {abs(pi - PI25DT)}\")\n",
    "print(f\"El tiempo de ejecución: {execution_time} segundos\")\n"
   ]
  },
  {
   "cell_type": "markdown",
   "id": "f9db638a-8d62-4f09-9729-f0124770103e",
   "metadata": {},
   "source": [
    "# Con el código de c++ y la paralelización en utilizando el fram MPI se obtiene mayor eficiencia en términos del tiempo de ejecución para el mismo número de iteraciones n=10,000,000. \n",
    "\n",
    "![image.png](pi2c.png)\n",
    "\n",
    "Se obtuvo algo muy similar: \n",
    "\n",
    "![image.png](pi2.png)\n",
    "\n",
    "Lo que implica una eficiencia **68.42 veces mayor en términos del tiempo de ejecución, respecto a la versión no paralela**"
   ]
  },
  {
   "cell_type": "code",
   "execution_count": 7,
   "id": "b106dcaa-6905-4d8b-b3bd-90ad7cd0f822",
   "metadata": {},
   "outputs": [
    {
     "data": {
      "text/plain": [
       "68.41592299127181"
      ]
     },
     "execution_count": 7,
     "metadata": {},
     "output_type": "execute_result"
    }
   ],
   "source": [
    "2.482882261276245/0.036291"
   ]
  },
  {
   "cell_type": "code",
   "execution_count": 8,
   "id": "5179800a-7dda-45b2-a779-85c664ef3c01",
   "metadata": {},
   "outputs": [
    {
     "name": "stdout",
     "output_type": "stream",
     "text": [
      "Requirement already satisfied: mpi4py in c:\\users\\rodri\\appdata\\roaming\\jupyterlab-desktop\\jlab_server\\lib\\site-packages (3.1.4)\n"
     ]
    },
    {
     "name": "stderr",
     "output_type": "stream",
     "text": [
      "WARNING: Ignoring invalid distribution -atplotlib (c:\\users\\rodri\\appdata\\roaming\\jupyterlab-desktop\\jlab_server\\lib\\site-packages)\n",
      "WARNING: Ignoring invalid distribution -atplotlib (c:\\users\\rodri\\appdata\\roaming\\jupyterlab-desktop\\jlab_server\\lib\\site-packages)\n",
      "WARNING: Ignoring invalid distribution -atplotlib (c:\\users\\rodri\\appdata\\roaming\\jupyterlab-desktop\\jlab_server\\lib\\site-packages)\n",
      "WARNING: Ignoring invalid distribution -atplotlib (c:\\users\\rodri\\appdata\\roaming\\jupyterlab-desktop\\jlab_server\\lib\\site-packages)\n",
      "WARNING: Ignoring invalid distribution -atplotlib (c:\\users\\rodri\\appdata\\roaming\\jupyterlab-desktop\\jlab_server\\lib\\site-packages)\n",
      "WARNING: Ignoring invalid distribution -atplotlib (c:\\users\\rodri\\appdata\\roaming\\jupyterlab-desktop\\jlab_server\\lib\\site-packages)\n"
     ]
    }
   ],
   "source": [
    "!pip install mpi4py"
   ]
  },
  {
   "cell_type": "code",
   "execution_count": 12,
   "id": "1cb5afaa-4c6b-46fa-bfd9-37d5ac92c78d",
   "metadata": {},
   "outputs": [
    {
     "name": "stdin",
     "output_type": "stream",
     "text": [
      "Enter the value of n:  10000000\n",
      "Enter the precision factor:  3\n"
     ]
    },
    {
     "name": "stdout",
     "output_type": "stream",
     "text": [
      "Process 0 of 1 says: Local sum: 31415926.53589731\n",
      "La aproximacion del valor de PI es: 3.141592653589731, con un error de 0.000000000000062\n",
      "Time elapsed in parallel part: 2.3800 seconds\n"
     ]
    }
   ],
   "source": [
    "from mpi4py import MPI\n",
    "import math\n",
    "import time\n",
    "\n",
    "comm = MPI.COMM_WORLD\n",
    "rank = comm.Get_rank()\n",
    "size = comm.Get_size()\n",
    "\n",
    "n = 0\n",
    "precision = 0\n",
    "PI25DT = 3.141592653589793238462643\n",
    "h, local_sum, global_sum, pi = 0.0, 0.0, 0.0, 0.0\n",
    "\n",
    "if rank == 0:\n",
    "    # Process 0 reads the value of 'n' and the precision factor from the user\n",
    "    n = int(input(\"Enter the value of n: \"))\n",
    "    precision = int(input(\"Enter the precision factor: \"))\n",
    "\n",
    "# Broadcast 'n' and 'precision' from process 0 to all other processes\n",
    "n = comm.bcast(n, root=0)\n",
    "precision = comm.bcast(precision, root=0)\n",
    "\n",
    "# Start measuring time\n",
    "start_time = time.time()\n",
    "\n",
    "h = 1.0 / float(n)\n",
    "local_sum = 0.0\n",
    "\n",
    "# Calculate the local sum for this process\n",
    "for i in range(rank + 1, n + 1, size):\n",
    "    x = h * (float(i) - 0.5)\n",
    "    local_sum += (4.0 / (1.0 + x * x))\n",
    "\n",
    "# Use MPI Reduce to combine local sums into the global sum\n",
    "global_sum = comm.reduce(local_sum, op=MPI.SUM, root=0)\n",
    "\n",
    "# Stop measuring time\n",
    "end_time = time.time()\n",
    "\n",
    "# Print rank and size of each process\n",
    "print(\"Process {} of {} says: Local sum: {}\".format(rank, size, local_sum))\n",
    "\n",
    "# Calculate PI on process 0\n",
    "if rank == 0:\n",
    "    pi = global_sum * h\n",
    "    print(\"La aproximacion del valor de PI es: {:.15f}, con un error de {:.15f}\".format(pi, abs(pi - PI25DT)))\n",
    "    print(\"Time elapsed in parallel part: {:.4f} seconds\".format(end_time - start_time))\n"
   ]
  },
  {
   "cell_type": "code",
   "execution_count": 13,
   "id": "cfe2f887-2a45-4433-aca2-c34d6bfae3a9",
   "metadata": {},
   "outputs": [
    {
     "name": "stdin",
     "output_type": "stream",
     "text": [
      "Enter the value of n:  10000000\n",
      "Enter the precision factor:  3\n"
     ]
    },
    {
     "name": "stdout",
     "output_type": "stream",
     "text": [
      "Process 0 of 1 says: Rank: 0, Size: 1, Local sum: 31415926.53589731\n",
      "La aproximacion del valor de PI es: 3.141592653589731, con un error de 0.000000000000062\n",
      "Time elapsed in parallel part: 2.4270 seconds\n"
     ]
    }
   ],
   "source": [
    "from mpi4py import MPI\n",
    "import math\n",
    "import time\n",
    "\n",
    "comm = MPI.COMM_WORLD\n",
    "rank = comm.Get_rank()\n",
    "size = comm.Get_size()\n",
    "\n",
    "n = 0\n",
    "precision = 0\n",
    "PI25DT = 3.141592653589793238462643\n",
    "h, local_sum, global_sum, pi = 0.0, 0.0, 0.0, 0.0\n",
    "\n",
    "if rank == 0:\n",
    "    # Process 0 reads the value of 'n' and the precision factor from the user\n",
    "    n = int(input(\"Enter the value of n: \"))\n",
    "    precision = int(input(\"Enter the precision factor: \"))\n",
    "\n",
    "# Broadcast 'n' and 'precision' from process 0 to all other processes\n",
    "n = comm.bcast(n, root=0)\n",
    "precision = comm.bcast(precision, root=0)\n",
    "\n",
    "# Start measuring time\n",
    "start_time = time.time()\n",
    "\n",
    "h = 1.0 / float(n)\n",
    "local_sum = 0.0\n",
    "\n",
    "# Calculate the local sum for this process\n",
    "for i in range(rank + 1, n + 1, size):\n",
    "    x = h * (float(i) - 0.5)\n",
    "    local_sum += (4.0 / (1.0 + x * x))\n",
    "\n",
    "# Use MPI Reduce to combine local sums into the global sum\n",
    "global_sum = comm.reduce(local_sum, op=MPI.SUM, root=0)\n",
    "\n",
    "# Stop measuring time\n",
    "end_time = time.time()\n",
    "\n",
    "# Print rank, size, and local sum of each process\n",
    "print(\"Process {} of {} says: Rank: {}, Size: {}, Local sum: {}\".format(rank, size, rank, size, local_sum))\n",
    "\n",
    "# Calculate PI on process 0\n",
    "if rank == 0:\n",
    "    pi = global_sum * h\n",
    "    print(\"La aproximacion del valor de PI es: {:.15f}, con un error de {:.15f}\".format(pi, abs(pi - PI25DT)))\n",
    "    print(\"Time elapsed in parallel part: {:.4f} seconds\".format(end_time - start_time))\n"
   ]
  },
  {
   "cell_type": "code",
   "execution_count": 14,
   "id": "482f1372-ebc4-46d3-891e-d52b6ef3d20a",
   "metadata": {},
   "outputs": [
    {
     "name": "stdin",
     "output_type": "stream",
     "text": [
      "Enter the value of n:  10000000\n",
      "Enter the precision factor:  4\n"
     ]
    },
    {
     "name": "stdout",
     "output_type": "stream",
     "text": [
      "Process 0 of 1 says: Rank: 0, Size: 1, Local sum: 31415926.53589731\n",
      "La aproximacion del valor de PI es: 3.141592653589731, con un error de 0.000000000000062\n",
      "Time elapsed in parallel part: 2.3541 seconds\n"
     ]
    }
   ],
   "source": [
    "from mpi4py import MPI\n",
    "import math\n",
    "import time\n",
    "\n",
    "comm = MPI.COMM_WORLD\n",
    "rank = comm.Get_rank()\n",
    "size = comm.Get_size()\n",
    "\n",
    "n = 0\n",
    "precision = 0\n",
    "PI25DT = 3.141592653589793238462643\n",
    "h, local_sum, global_sum, pi = 0.0, 0.0, 0.0, 0.0\n",
    "\n",
    "if rank == 0:\n",
    "    # Process 0 reads the value of 'n' and the precision factor from the user\n",
    "    n = int(input(\"Enter the value of n: \"))\n",
    "    precision = int(input(\"Enter the precision factor: \"))\n",
    "\n",
    "# Broadcast 'n' and 'precision' from process 0 to all other processes\n",
    "n = comm.bcast(n, root=0)\n",
    "precision = comm.bcast(precision, root=0)\n",
    "\n",
    "# Start measuring time\n",
    "start_time = time.time()\n",
    "\n",
    "h = 1.0 / float(n)\n",
    "local_sum = 0.0\n",
    "\n",
    "# Calculate the local sum for this process\n",
    "for i in range(rank + 1, n + 1, size):\n",
    "    x = h * (float(i) - 0.5)\n",
    "    local_sum += (4.0 / (1.0 + x * x))\n",
    "\n",
    "# Use MPI Reduce to combine local sums into the global sum\n",
    "global_sum = comm.reduce(local_sum, op=MPI.SUM, root=0)\n",
    "\n",
    "# Stop measuring time\n",
    "end_time = time.time()\n",
    "\n",
    "# Print rank, size, and local sum of each process\n",
    "print(\"Process {} of {} says: Rank: {}, Size: {}, Local sum: {}\".format(rank, size, rank, size, local_sum))\n",
    "\n",
    "# Calculate PI on process 0\n",
    "if rank == 0:\n",
    "    pi = global_sum * h\n",
    "    print(\"La aproximacion del valor de PI es: {:.15f}, con un error de {:.15f}\".format(pi, abs(pi - PI25DT)))\n",
    "    print(\"Time elapsed in parallel part: {:.4f} seconds\".format(end_time - start_time))\n"
   ]
  },
  {
   "cell_type": "code",
   "execution_count": 15,
   "id": "8fe1eea0-e011-4f12-9a0e-6528f2202bc0",
   "metadata": {},
   "outputs": [
    {
     "ename": "SyntaxError",
     "evalue": "invalid syntax (3354355059.py, line 1)",
     "output_type": "error",
     "traceback": [
      "\u001b[1;36m  Cell \u001b[1;32mIn[15], line 1\u001b[1;36m\u001b[0m\n\u001b[1;33m    mpiexec -n 4 python pi_parallel.py\u001b[0m\n\u001b[1;37m               ^\u001b[0m\n\u001b[1;31mSyntaxError\u001b[0m\u001b[1;31m:\u001b[0m invalid syntax\n"
     ]
    }
   ],
   "source": [
    "mpiexec -n 4 python pi_parallel.py"
   ]
  },
  {
   "cell_type": "markdown",
   "id": "47110061-0453-4c7f-b70d-7abb3d88f7c7",
   "metadata": {},
   "source": [
    "# Referencias\n",
    "\n",
    "- [@Dra. Magali Arellano, 2023], Clasificación según Flynn, lecciones para la Unidad 2 de la materia de Cómputo de Alto Rendimiento. Disponible en: https://aulavirtual.infotec.mx/pluginfile.php/84972/mod_label/intro/02_1_Clasificacio%CC%81n_flynn.pdf \n",
    "\n",
    "- [@Dra. Magali Arellano, 2023], Tipos de paralelismo, lecciones para la Unidad 2 de la materia de Cómputo de Alto Rendimiento. Disponible en:  https://aulavirtual.infotec.mx/pluginfile.php/84972/mod_label/intro/02_2_tipos_paralelismo.pdf\n"
   ]
  },
  {
   "cell_type": "code",
   "execution_count": 16,
   "id": "b71f23ee-f18d-4c93-841f-4f1ae1123f93",
   "metadata": {},
   "outputs": [
    {
     "ename": "TypeError",
     "evalue": "len() takes exactly one argument (0 given)",
     "output_type": "error",
     "traceback": [
      "\u001b[1;31m---------------------------------------------------------------------------\u001b[0m",
      "\u001b[1;31mTypeError\u001b[0m                                 Traceback (most recent call last)",
      "Cell \u001b[1;32mIn[16], line 1\u001b[0m\n\u001b[1;32m----> 1\u001b[0m \u001b[38;5;28;43mlen\u001b[39;49m\u001b[43m(\u001b[49m\u001b[43m)\u001b[49m\n",
      "\u001b[1;31mTypeError\u001b[0m: len() takes exactly one argument (0 given)"
     ]
    }
   ],
   "source": [
    "len()"
   ]
  },
  {
   "cell_type": "code",
   "execution_count": null,
   "id": "2e5be3ca-d0ea-4c15-be71-417489332665",
   "metadata": {},
   "outputs": [],
   "source": []
  },
  {
   "cell_type": "code",
   "execution_count": null,
   "id": "b25b5bbd-ab55-46c4-be8f-733d187c1045",
   "metadata": {},
   "outputs": [],
   "source": []
  },
  {
   "cell_type": "code",
   "execution_count": null,
   "id": "1f90d057-9c32-444e-9e55-f87f37f8a5a4",
   "metadata": {},
   "outputs": [],
   "source": [
    "4km/h a m/s   4km/h x 1000m/1km x 1h/3600s"
   ]
  },
  {
   "cell_type": "code",
   "execution_count": 17,
   "id": "64f7cd0f-8033-41ad-82c9-2db8d4de0a61",
   "metadata": {},
   "outputs": [
    {
     "data": {
      "text/plain": [
       "1.1111111111111112"
      ]
     },
     "execution_count": 17,
     "metadata": {},
     "output_type": "execute_result"
    }
   ],
   "source": [
    "4000/3600\n"
   ]
  },
  {
   "cell_type": "code",
   "execution_count": 18,
   "id": "af13111e-4509-473f-acd0-67ba4d74cfec",
   "metadata": {},
   "outputs": [
    {
     "name": "stdin",
     "output_type": "stream",
     "text": [
      "Indica el valor de n para la suma de Riemann:  10000000\n",
      "Indica por favor el factor de precisión:  4\n"
     ]
    },
    {
     "name": "stdout",
     "output_type": "stream",
     "text": [
      "Proceso 0 de 1 el Rank (número de orden) es: 0, Size (cantidad de procesos) es: 1, Suma local es: 31415926.53589731\n",
      "La aproximación del valor de PI es: 3.141592653589731, con un error de 0.000000000000062\n",
      "Tiempo total de ejecución en la parte paralela: 4.1026 segundos\n"
     ]
    }
   ],
   "source": [
    "from mpi4py import MPI\n",
    "import math\n",
    "import time\n",
    "\n",
    "comm = MPI.COMM_WORLD\n",
    "rank = comm.Get_rank()\n",
    "size = comm.Get_size()\n",
    "\n",
    "n = 0\n",
    "precision = 0\n",
    "PI25DT = 3.141592653589793238462643\n",
    "h, local_sum, global_sum, pi = 0.0, 0.0, 0.0, 0.0\n",
    "\n",
    "if rank == 0:\n",
    "    # Como insumos el numero de divisiones del intervalo y el factor de precisión\n",
    "    # Entendido como el número de decimales que deseamos utilizar\n",
    "    n = int(input(\"Indica el valor de n para la suma de Riemann: \"))\n",
    "    precision = int(input(\"Indica por favor el factor de precisión: \"))\n",
    "\n",
    "# Transmisión de 'n' y la 'precisión' del  process 0 a todos los procesos\n",
    "n = comm.bcast(n, root=0)\n",
    "precision = comm.bcast(precision, root=0)\n",
    "\n",
    "# Inicia el proceso y se registra el tiempo inicial\n",
    "start_time = time.time()\n",
    "\n",
    "h = 1.0 / float(n) # el tamaño de cada incremento dado n\n",
    "local_sum = 0.0 # se inicializa la suma\n",
    "\n",
    "# Calcula la suma local con la función proporcionada\n",
    "for i in range(rank + 1, n + 1, size):\n",
    "    x = h * (float(i) - 0.5)\n",
    "    local_sum += (4.0 / (1.0 + x * x))\n",
    "\n",
    "# Utiliza MPI para combinar las sumas locales dentro de la suma global\n",
    "global_sum = comm.reduce(local_sum, op=MPI.SUM, root=0)\n",
    "\n",
    "# Se registr el tiempo de finalización del algorimo en su parte paralela\n",
    "end_time = time.time()\n",
    "\n",
    "# Resultados: Se imprime el Rank (número de orden), size (cantidad de procesos mpi)\n",
    "# y la suma local de cada proceso\n",
    "print(\"Proceso {} de {} el Rank (número de orden) es: {}, Size (cantidad de procesos) es: {}, Suma local es: {}\".format(rank, size, rank, size, local_sum))\n",
    "\n",
    "# Se calcula PI\n",
    "if rank == 0:\n",
    "    pi = global_sum * h\n",
    "    print(\"La aproximación del valor de PI es: {:.15f}, con un error de {:.15f}\".format(pi, abs(pi - PI25DT)))\n",
    "    print(\"Tiempo total de ejecución en la parte paralela: {:.4f} segundos\".format(end_time - start_time))\n"
   ]
  },
  {
   "cell_type": "markdown",
   "id": "23077fb9-cf2b-4a19-bd18-78e6454380c4",
   "metadata": {},
   "source": [
    "# Cadena de mensajes"
   ]
  },
  {
   "cell_type": "code",
   "execution_count": 1,
   "id": "6c785806-ad56-47ed-93d2-96499e6ea685",
   "metadata": {},
   "outputs": [
    {
     "name": "stdin",
     "output_type": "stream",
     "text": [
      "Introudce por favor el número de procesos (entre 2 y el número de núcleos):  4\n"
     ]
    },
    {
     "name": "stdout",
     "output_type": "stream",
     "text": [
      "Hola soy el proceso 0\n"
     ]
    },
    {
     "ename": "Exception",
     "evalue": "Invalid rank, error stack:\nMPI_Send(buf=0x000002289A5ED270, count=36, MPI_BYTE, dest=1, tag=0, MPI_COMM_WORLD) failed\nInvalid rank has value 1 but must be nonnegative and less than 1",
     "output_type": "error",
     "traceback": [
      "\u001b[1;31m---------------------------------------------------------------------------\u001b[0m",
      "\u001b[1;31mException\u001b[0m                                 Traceback (most recent call last)",
      "Cell \u001b[1;32mIn[1], line 41\u001b[0m\n\u001b[0;32m     39\u001b[0m     \u001b[38;5;28;01melif\u001b[39;00m rank \u001b[38;5;241m==\u001b[39m i \u001b[38;5;241m-\u001b[39m \u001b[38;5;241m1\u001b[39m:\n\u001b[0;32m     40\u001b[0m         message \u001b[38;5;241m=\u001b[39m received_initial\n\u001b[1;32m---> 41\u001b[0m         \u001b[43mcomm\u001b[49m\u001b[38;5;241;43m.\u001b[39;49m\u001b[43msend\u001b[49m\u001b[43m(\u001b[49m\u001b[43mmessage\u001b[49m\u001b[43m,\u001b[49m\u001b[43m \u001b[49m\u001b[43mdest\u001b[49m\u001b[38;5;241;43m=\u001b[39;49m\u001b[43mi\u001b[49m\u001b[43m)\u001b[49m\n\u001b[0;32m     43\u001b[0m \u001b[38;5;66;03m# Se registra el tiempo de finalización del algoritmo\u001b[39;00m\n\u001b[0;32m     44\u001b[0m end_time \u001b[38;5;241m=\u001b[39m time\u001b[38;5;241m.\u001b[39mtime()\n",
      "File \u001b[1;32mmpi4py\\MPI\\Comm.pyx:1406\u001b[0m, in \u001b[0;36mmpi4py.MPI.Comm.send\u001b[1;34m()\u001b[0m\n",
      "File \u001b[1;32mmpi4py\\MPI\\msgpickle.pxi:212\u001b[0m, in \u001b[0;36mmpi4py.MPI.PyMPI_send\u001b[1;34m()\u001b[0m\n",
      "\u001b[1;31mException\u001b[0m: Invalid rank, error stack:\nMPI_Send(buf=0x000002289A5ED270, count=36, MPI_BYTE, dest=1, tag=0, MPI_COMM_WORLD) failed\nInvalid rank has value 1 but must be nonnegative and less than 1"
     ]
    }
   ],
   "source": [
    "from mpi4py import MPI\n",
    "import time\n",
    "\n",
    "# Nota: El programa se guarda en el archivo mensajes_paralelo2.py y se ejecuta con base en MS MPI\n",
    "# La línea de comando es: $ mpiexec -n 4 python mensajes_paralelo2.py\n",
    "# Elaboró: Rodrigo Guarneros Gutiérrez \n",
    "\n",
    "# dependencias\n",
    "comm = MPI.COMM_WORLD\n",
    "rank = comm.Get_rank()\n",
    "size = comm.Get_size()\n",
    "\n",
    "# preguntar por el número de procesos, debe ser menor al número de núcleos especificados en mpiexec, por ejemplo \n",
    "#  mpiexec -n 4 python mensajes_paralelo2.py\n",
    "if rank == 0:\n",
    "    num_processes = int(input(\"Introudce por favor el número de procesos (entre 2 y el número de núcleos): \"))\n",
    "else:\n",
    "    num_processes = None\n",
    "\n",
    "\n",
    "# Se transmite el número de procesos seleccionado por el usuario\n",
    "num_processes = comm.bcast(num_processes, root=0)\n",
    "\n",
    "# Se registra el tiempo inicial\n",
    "start_time = time.time()\n",
    "\n",
    "received_message = \"Este mensaje es para\"\n",
    "received_initial = \"Hola soy el proceso 0\"\n",
    "\n",
    "if rank == 0:\n",
    "    print(received_initial)\n",
    "\n",
    "\n",
    "# Envío y recepción encadenada de los mensajes\n",
    "for i in range(1, num_processes):\n",
    "    if rank == i:\n",
    "        received_message = comm.recv(source=i-1)\n",
    "        print(f\"Soy el proceso {rank} y he recibido el mensaje de {i - 1} que dice: {received_message}\")\n",
    "    elif rank == i - 1:\n",
    "        message = received_initial\n",
    "        comm.send(message, dest=i)\n",
    "\n",
    "# Se registra el tiempo de finalización del algoritmo\n",
    "end_time = time.time()\n",
    "\n",
    "# Se calcula el tiempo total de ejecución\n",
    "total_elapsed_time = comm.reduce(end_time - start_time, op=MPI.SUM, root=0)\n",
    "\n",
    "# Se imprime el tiempo total para conocimiento del usuario\n",
    "if rank == 0:\n",
    "    print(f\"El tiempo total de este algoritmo fue de: {total_elapsed_time} segundos\")\n",
    "\n",
    "# Se concluye el proceso MPI\n",
    "MPI.Finalize()\n"
   ]
  },
  {
   "cell_type": "markdown",
   "id": "48c41512-5983-4d87-a582-679e8b3dffbe",
   "metadata": {},
   "source": [
    "Enter the number of processes (must be at least 2): 4\n",
    "Hola soy el proceso 0\n",
    "Soy el proceso 1 y he recibido el mensaje de 0 que dice: Hola soy el proceso 0\n",
    "Soy el proceso 2 y he recibido el mensaje de 1 y dice que 0 envio este mensaje: Soy el proceso 3 y he recibido el mensaje de 2 y dice que 0 envio este mensaje: Hola soy el proceso 0\n",
    "El tiempo total de este algoritmo fue de: 0.0050466060638427734 segundos\n"
   ]
  },
  {
   "cell_type": "code",
   "execution_count": 2,
   "id": "bb322fd3-52f0-4691-b5cd-f992f0f7afaf",
   "metadata": {},
   "outputs": [
    {
     "ename": "ValueError",
     "evalue": "invalid literal for int() with base 10: '-f'",
     "output_type": "error",
     "traceback": [
      "\u001b[1;31m---------------------------------------------------------------------------\u001b[0m",
      "\u001b[1;31mValueError\u001b[0m                                Traceback (most recent call last)",
      "Cell \u001b[1;32mIn[2], line 40\u001b[0m\n\u001b[0;32m     37\u001b[0m         \u001b[38;5;28mprint\u001b[39m(\u001b[38;5;124mf\u001b[39m\u001b[38;5;124m\"\u001b[39m\u001b[38;5;124mTotal = \u001b[39m\u001b[38;5;132;01m{\u001b[39;00mglobal_total\u001b[38;5;132;01m}\u001b[39;00m\u001b[38;5;124m\"\u001b[39m)\n\u001b[0;32m     39\u001b[0m \u001b[38;5;28;01mif\u001b[39;00m \u001b[38;5;18m__name__\u001b[39m \u001b[38;5;241m==\u001b[39m \u001b[38;5;124m\"\u001b[39m\u001b[38;5;124m__main__\u001b[39m\u001b[38;5;124m\"\u001b[39m:\n\u001b[1;32m---> 40\u001b[0m     \u001b[43mmain\u001b[49m\u001b[43m(\u001b[49m\u001b[43m)\u001b[49m\n",
      "Cell \u001b[1;32mIn[2], line 13\u001b[0m, in \u001b[0;36mmain\u001b[1;34m()\u001b[0m\n\u001b[0;32m     10\u001b[0m tama \u001b[38;5;241m=\u001b[39m \u001b[38;5;241m100\u001b[39m\n\u001b[0;32m     12\u001b[0m \u001b[38;5;28;01mif\u001b[39;00m \u001b[38;5;28mlen\u001b[39m(sys\u001b[38;5;241m.\u001b[39margv) \u001b[38;5;241m>\u001b[39m \u001b[38;5;241m1\u001b[39m:\n\u001b[1;32m---> 13\u001b[0m     tama \u001b[38;5;241m=\u001b[39m \u001b[38;5;28;43mint\u001b[39;49m\u001b[43m(\u001b[49m\u001b[43msys\u001b[49m\u001b[38;5;241;43m.\u001b[39;49m\u001b[43margv\u001b[49m\u001b[43m[\u001b[49m\u001b[38;5;241;43m1\u001b[39;49m\u001b[43m]\u001b[49m\u001b[43m)\u001b[49m\n\u001b[0;32m     15\u001b[0m \u001b[38;5;66;03m# Distribute the work evenly among processes\u001b[39;00m\n\u001b[0;32m     16\u001b[0m local_tama \u001b[38;5;241m=\u001b[39m tama \u001b[38;5;241m/\u001b[39m\u001b[38;5;241m/\u001b[39m size\n",
      "\u001b[1;31mValueError\u001b[0m: invalid literal for int() with base 10: '-f'"
     ]
    }
   ],
   "source": [
    "from mpi4py import MPI\n",
    "import sys\n",
    "import numpy as np\n",
    "\n",
    "def main():\n",
    "    comm = MPI.COMM_WORLD\n",
    "    rank = comm.Get_rank()\n",
    "    size = comm.Get_size()\n",
    "\n",
    "    tama = 100\n",
    "\n",
    "    if len(sys.argv) > 1:\n",
    "        tama = int(sys.argv[1])\n",
    "\n",
    "    # Distribute the work evenly among processes\n",
    "    local_tama = tama // size\n",
    "    remainder = tama % size\n",
    "\n",
    "    # Calculate the start and end indices for each process\n",
    "    start = rank * local_tama\n",
    "    end = start + local_tama\n",
    "\n",
    "    if rank == size - 1:\n",
    "        end += remainder\n",
    "\n",
    "    # Create and fill the local arrays\n",
    "    local_VectorA = np.arange(start + 1, end + 1)\n",
    "    local_VectorB = np.arange(start * 10 + 10, end * 10 + 10)\n",
    "\n",
    "    # Perform the local dot product\n",
    "    local_total = np.sum(local_VectorA * local_VectorB)\n",
    "\n",
    "    # Reduce the local totals to get the global total\n",
    "    global_total = comm.reduce(local_total, op=MPI.SUM, root=0)\n",
    "\n",
    "    if rank == 0:\n",
    "        print(f\"Total = {global_total}\")\n",
    "\n",
    "if __name__ == \"__main__\":\n",
    "    main()\n"
   ]
  },
  {
   "cell_type": "markdown",
   "id": "19b5b751-35fd-4a33-8e94-d690a156f4e4",
   "metadata": {},
   "source": [
    "# Referencias\n",
    "- Microsoft MPI Documentation (mpiexec). Consultado el viernes 6 de octubre. Disponible en: \n",
    "https://learn.microsoft.com/en-us/powershell/high-performance-computing/mpiexec?view=hpc19-ps&source=recommendations"
   ]
  },
  {
   "cell_type": "code",
   "execution_count": null,
   "id": "1ed5e8c0-bfbc-48d8-8068-d48007a84492",
   "metadata": {},
   "outputs": [],
   "source": []
  },
  {
   "cell_type": "code",
   "execution_count": null,
   "id": "badf0e1e-5e4d-4003-8301-2f27dd24a076",
   "metadata": {},
   "outputs": [],
   "source": []
  }
 ],
 "metadata": {
  "colab": {
   "provenance": []
  },
  "kernelspec": {
   "display_name": "Python 3 (ipykernel)",
   "language": "python",
   "name": "python3"
  },
  "language_info": {
   "codemirror_mode": {
    "name": "ipython",
    "version": 3
   },
   "file_extension": ".py",
   "mimetype": "text/x-python",
   "name": "python",
   "nbconvert_exporter": "python",
   "pygments_lexer": "ipython3",
   "version": "3.8.15"
  }
 },
 "nbformat": 4,
 "nbformat_minor": 5
}
